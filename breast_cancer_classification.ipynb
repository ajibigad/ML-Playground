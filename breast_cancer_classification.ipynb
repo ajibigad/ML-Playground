{
  "nbformat": 4,
  "nbformat_minor": 0,
  "metadata": {
    "colab": {
      "provenance": [],
      "mount_file_id": "1jnxUCjPjtGhcbxHvmWhcF-9Uz4jHyRgK",
      "authorship_tag": "ABX9TyOhEKvLZfEE0KmV6DPtrzfC",
      "include_colab_link": true
    },
    "kernelspec": {
      "name": "python3",
      "display_name": "Python 3"
    },
    "language_info": {
      "name": "python"
    }
  },
  "cells": [
    {
      "cell_type": "markdown",
      "metadata": {
        "id": "view-in-github",
        "colab_type": "text"
      },
      "source": [
        "<a href=\"https://colab.research.google.com/github/ajibigad/ML-Playground/blob/main/breast_cancer_classification.ipynb\" target=\"_parent\"><img src=\"https://colab.research.google.com/assets/colab-badge.svg\" alt=\"Open In Colab\"/></a>"
      ]
    },
    {
      "cell_type": "code",
      "execution_count": 3,
      "metadata": {
        "colab": {
          "base_uri": "https://localhost:8080/"
        },
        "id": "4bXL7SdKkCZr",
        "outputId": "a45d2042-be35-4b30-c892-015fa797a70e"
      },
      "outputs": [
        {
          "output_type": "stream",
          "name": "stdout",
          "text": [
            "Google Drive is already mounted.\n",
            "/content/drive/MyDrive/Colab Notebooks/breast-cancer.csv already exists\n"
          ]
        }
      ],
      "source": [
        "import os\n",
        "\n",
        "from google.colab import files, drive\n",
        "import shutil\n",
        "\n",
        "if not os.path.ismount('/content/drive'):\n",
        "    print(\"Mounting Google Drive...\")\n",
        "    drive.mount('/content/drive')\n",
        "else:\n",
        "    print(\"Google Drive is already mounted.\")\n",
        "\n",
        "destination = \"/content/drive/MyDrive/Colab Notebooks/breast-cancer.csv\"  # Set the destination path in your Drive\n",
        "\n",
        "if not os.path.exists(destination):\n",
        "  uploaded = files.upload()\n",
        "  filename = list(uploaded.keys())[0]  # Get the uploaded filename\n",
        "  shutil.move(filename, destination)\n",
        "  print(f\"Uploaded file '{filename}' has been moved to Google Drive at '{destination}'\")\n",
        "else:\n",
        "  print(f\"{destination} already exists\")"
      ]
    },
    {
      "cell_type": "code",
      "source": [
        "import pandas as pd\n",
        "from sklearn.preprocessing import LabelEncoder\n",
        "\n",
        "# Load CSV file into a pandas DataFrame\n",
        "df = pd.read_csv(destination)\n",
        "\n",
        "# Convert M -> 1 and B -> 0\n",
        "label_encoder = LabelEncoder()\n",
        "df['diagnosis'] = label_encoder.fit_transform(df['diagnosis'])\n",
        "\n",
        "X = df.drop(['id', 'diagnosis'], axis=1).values\n",
        "y = df['diagnosis'].values"
      ],
      "metadata": {
        "id": "c8Jj6WsxBKGK"
      },
      "execution_count": 4,
      "outputs": []
    },
    {
      "cell_type": "code",
      "source": [
        "from sklearn.model_selection import train_test_split\n",
        "import torch\n",
        "import torch.nn as nn\n",
        "\n",
        "\n",
        "X_train, X_test, y_train, y_test = train_test_split(X, y, test_size=0.2, random_state=42)\n",
        "\n",
        "# Convert the data to PyTorch tensors\n",
        "X_train_tensor = torch.tensor(X_train, dtype=torch.float32)\n",
        "y_train_tensor = torch.tensor(y_train, dtype=torch.float32).view(-1, 1)  # Reshape targets to rank 2 tensor eg. from (455) to (455, 1)\n",
        "X_test_tensor = torch.tensor(X_test, dtype=torch.float32)\n",
        "y_test_tensor = torch.tensor(y_test, dtype=torch.float32).view(-1, 1)  # Reshape targets to (455, 1)\n",
        "\n",
        "# Z-score normalization\n",
        "mean = X_train_tensor.mean(dim=0, keepdim=True)\n",
        "std = X_train_tensor.std(dim=0, keepdim=True)\n",
        "\n",
        "X_train_normalized = (X_train_tensor - mean) / std\n",
        "X_test_normalized = (X_test_tensor - mean) / std"
      ],
      "metadata": {
        "id": "a7npO4KDDb4S"
      },
      "execution_count": 5,
      "outputs": []
    },
    {
      "cell_type": "code",
      "source": [
        "import pdb\n",
        "import numpy as np\n",
        "\n",
        "def sigmoid(x): return 1/(1+torch.exp(-x))\n",
        "\n",
        "def abs_mean_loss(predictions, targets):\n",
        "  # // abs mean or mse but we did abs mean loss here\n",
        "  # // for every prediction, if the target is 1, then difference is 1-pred, else difference is abs(0-pred)\n",
        "  # // predictions will always be between 0 and 1 due to sigmond function\n",
        "  return torch.where(targets==1, 1-predictions, predictions).mean()\n",
        "\n",
        "def mse(preds, targets): return ((preds-targets)**2).mean()\n",
        "\n",
        "def batch_accuracy(predictions, targets):\n",
        "  with torch.no_grad():\n",
        "    correct = (predictions>=0.5) == targets\n",
        "    return correct.float().mean()\n",
        "\n",
        "def validate_epoch(model, val_data, val_target):\n",
        "    accs = [batch_accuracy(model.predict(xb), yb) for xb,yb in zip(val_data, val_target)]\n",
        "    return round(torch.stack(accs).mean().item(), 4)\n",
        "\n",
        "class LinearModel():\n",
        "  def __init__(self, weight, bias, x, y, x_validate, y_validate, loss_fn, metrics):\n",
        "    self.weight = weight\n",
        "    self.bias = bias\n",
        "    self.x = x\n",
        "    self.y = y\n",
        "    self.x_validate = x_validate\n",
        "    self.y_validate = y_validate\n",
        "    self.params = self.weight, self.bias\n",
        "    self.loss_fn = loss_fn\n",
        "    self.metrics = metrics\n",
        "    self.z = None\n",
        "\n",
        "  def predict(self, x):\n",
        "    # z(x) = xw + b\n",
        "    # y = g(z(x)) where g is an activation function\n",
        "    self.z = x@self.weight + self.bias\n",
        "\n",
        "    if torch.isnan(self.z).any():\n",
        "      pdb.set_trace()\n",
        "\n",
        "    # apply activation function\n",
        "    return sigmoid(self.z)\n",
        "\n",
        "  def step(self, loss, learning_rate):\n",
        "    # get loss\n",
        "    # calculate gradient, loss.backward()\n",
        "    # update parameters using learning rate\n",
        "    loss.backward()\n",
        "    for p in self.params:\n",
        "      p.data -= p.grad.data * learning_rate\n",
        "      p.grad.zero_()\n",
        "\n",
        "  def train(self, epoch, learning_rate):\n",
        "    for i in range(epoch):\n",
        "      preds = self.predict(self.x)\n",
        "      try:\n",
        "        loss = self.loss_fn(preds, self.y)\n",
        "      except:\n",
        "        print(preds.view(-1).tolist(), self.z)\n",
        "        raise\n",
        "      accuracy = self.metrics(preds, self.y)\n",
        "      validation = validate_epoch(self, self.x_validate, self.y_validate)\n",
        "      print(f\"epoch {i}: loss: {loss}, accuracy: {accuracy}, validation: {validation}\")\n",
        "      self.step(loss, learning_rate)\n",
        "\n",
        "def init_params(size, std=1.0): return (torch.randn(size)*std).requires_grad_()"
      ],
      "metadata": {
        "id": "LXVuVpX2F2Yp"
      },
      "execution_count": 6,
      "outputs": []
    },
    {
      "cell_type": "code",
      "source": [
        "w = init_params((X_train_normalized.shape[1], 1)) # size number of\n",
        "b = init_params(1)\n",
        "\n",
        "model = LinearModel(w, b, X_train_normalized, y_train_tensor, X_test_normalized, y_test_tensor, nn.BCELoss(), batch_accuracy)\n",
        "model.train(epoch=50, learning_rate=1e-1)"
      ],
      "metadata": {
        "colab": {
          "base_uri": "https://localhost:8080/"
        },
        "id": "WijSC5_hZuFz",
        "outputId": "bc57a75f-c41a-4f32-b1e4-b5383b6773c3"
      },
      "execution_count": 7,
      "outputs": [
        {
          "output_type": "stream",
          "name": "stdout",
          "text": [
            "epoch 0: loss: 2.5924503803253174, accuracy: 0.32087913155555725, validation: 0.3158\n",
            "epoch 1: loss: 2.200493097305298, accuracy: 0.38461539149284363, validation: 0.3684\n",
            "epoch 2: loss: 1.8839497566223145, accuracy: 0.4263736307621002, validation: 0.4035\n",
            "epoch 3: loss: 1.6269292831420898, accuracy: 0.4703296720981598, validation: 0.4825\n",
            "epoch 4: loss: 1.4190452098846436, accuracy: 0.5010989308357239, validation: 0.5\n",
            "epoch 5: loss: 1.2500863075256348, accuracy: 0.5428571701049805, validation: 0.5351\n",
            "epoch 6: loss: 1.111772060394287, accuracy: 0.5692307949066162, validation: 0.5702\n",
            "epoch 7: loss: 0.997462272644043, accuracy: 0.6087912321090698, validation: 0.5965\n",
            "epoch 8: loss: 0.9020546078681946, accuracy: 0.6417582631111145, validation: 0.6491\n",
            "epoch 9: loss: 0.8217980265617371, accuracy: 0.6681318879127502, validation: 0.6754\n",
            "epoch 10: loss: 0.7538639307022095, accuracy: 0.6813187003135681, validation: 0.6842\n",
            "epoch 11: loss: 0.69603031873703, accuracy: 0.7120879292488098, validation: 0.7018\n",
            "epoch 12: loss: 0.6465121507644653, accuracy: 0.7274725437164307, validation: 0.7193\n",
            "epoch 13: loss: 0.6038609147071838, accuracy: 0.7384615540504456, validation: 0.7632\n",
            "epoch 14: loss: 0.566899299621582, accuracy: 0.7582417726516724, validation: 0.7807\n",
            "epoch 15: loss: 0.5346688032150269, accuracy: 0.7648351788520813, validation: 0.7895\n",
            "epoch 16: loss: 0.5063905715942383, accuracy: 0.7780219912528992, validation: 0.7982\n",
            "epoch 17: loss: 0.48142990469932556, accuracy: 0.7890110015869141, validation: 0.7982\n",
            "epoch 18: loss: 0.45926862955093384, accuracy: 0.8021978139877319, validation: 0.7982\n",
            "epoch 19: loss: 0.4394807517528534, accuracy: 0.8131868243217468, validation: 0.807\n",
            "epoch 20: loss: 0.4217151999473572, accuracy: 0.8197802305221558, validation: 0.8158\n",
            "epoch 21: loss: 0.40568146109580994, accuracy: 0.8219780325889587, validation: 0.8333\n",
            "epoch 22: loss: 0.3911385238170624, accuracy: 0.8241758346557617, validation: 0.8509\n",
            "epoch 23: loss: 0.37788569927215576, accuracy: 0.8373626470565796, validation: 0.8596\n",
            "epoch 24: loss: 0.3657558262348175, accuracy: 0.8439560532569885, validation: 0.8596\n",
            "epoch 25: loss: 0.35460883378982544, accuracy: 0.8483516573905945, validation: 0.8596\n",
            "epoch 26: loss: 0.3443267047405243, accuracy: 0.8505494594573975, validation: 0.8596\n",
            "epoch 27: loss: 0.3348102569580078, accuracy: 0.8527472615242004, validation: 0.8596\n",
            "epoch 28: loss: 0.3259747624397278, accuracy: 0.8593406677246094, validation: 0.8596\n",
            "epoch 29: loss: 0.3177480101585388, accuracy: 0.8593406677246094, validation: 0.8596\n",
            "epoch 30: loss: 0.3100677728652954, accuracy: 0.8615384697914124, validation: 0.8596\n",
            "epoch 31: loss: 0.30288058519363403, accuracy: 0.8637362718582153, validation: 0.8596\n",
            "epoch 32: loss: 0.2961396872997284, accuracy: 0.8747252821922302, validation: 0.8684\n",
            "epoch 33: loss: 0.28980422019958496, accuracy: 0.8747252821922302, validation: 0.8684\n",
            "epoch 34: loss: 0.2838383913040161, accuracy: 0.8769230842590332, validation: 0.8684\n",
            "epoch 35: loss: 0.27821066975593567, accuracy: 0.8769230842590332, validation: 0.8684\n",
            "epoch 36: loss: 0.27289292216300964, accuracy: 0.8791208863258362, validation: 0.8684\n",
            "epoch 37: loss: 0.2678603231906891, accuracy: 0.8813186883926392, validation: 0.8772\n",
            "epoch 38: loss: 0.26309049129486084, accuracy: 0.8857142925262451, validation: 0.8772\n",
            "epoch 39: loss: 0.25856342911720276, accuracy: 0.8879120945930481, validation: 0.8772\n",
            "epoch 40: loss: 0.2542610466480255, accuracy: 0.8901098966598511, validation: 0.886\n",
            "epoch 41: loss: 0.25016725063323975, accuracy: 0.894505500793457, validation: 0.8947\n",
            "epoch 42: loss: 0.24626721441745758, accuracy: 0.894505500793457, validation: 0.8947\n",
            "epoch 43: loss: 0.24254758656024933, accuracy: 0.894505500793457, validation: 0.8947\n",
            "epoch 44: loss: 0.23899619281291962, accuracy: 0.894505500793457, validation: 0.9035\n",
            "epoch 45: loss: 0.23560190200805664, accuracy: 0.89670330286026, validation: 0.9035\n",
            "epoch 46: loss: 0.23235464096069336, accuracy: 0.89670330286026, validation: 0.9035\n",
            "epoch 47: loss: 0.22924497723579407, accuracy: 0.898901104927063, validation: 0.9035\n",
            "epoch 48: loss: 0.22626450657844543, accuracy: 0.898901104927063, validation: 0.9035\n",
            "epoch 49: loss: 0.22340521216392517, accuracy: 0.901098906993866, validation: 0.9035\n"
          ]
        }
      ]
    },
    {
      "cell_type": "code",
      "source": [
        "def random_test(model):\n",
        "  test_X = X[35:67]\n",
        "  test_y = y[35:67]\n",
        "\n",
        "  test_X_tensor = torch.tensor(test_X, dtype=torch.float32)\n",
        "  test_X_tensor_normalized = (test_X_tensor - mean) / std\n",
        "\n",
        "  # print(test_X)\n",
        "\n",
        "  preds = (model.predict(test_X_tensor_normalized).view(-1) >= 0.5).tolist()\n",
        "  targets = test_y >= 0.5\n",
        "  for pred, target in zip(preds, targets):\n",
        "    print(f\"pred: {pred:>1}, target {target:>1},   match: {pred==target:>1}\")"
      ],
      "metadata": {
        "id": "w8TV0alJU9O9"
      },
      "execution_count": 8,
      "outputs": []
    },
    {
      "cell_type": "code",
      "source": [
        "random_test(model)\n",
        "model.params"
      ],
      "metadata": {
        "colab": {
          "base_uri": "https://localhost:8080/"
        },
        "id": "ZuMpme9iTjjk",
        "outputId": "557394b4-14ab-48b8-e2c0-bea87d4bf808"
      },
      "execution_count": 9,
      "outputs": [
        {
          "output_type": "stream",
          "name": "stdout",
          "text": [
            "pred: 1, target 1,   match: 1\n",
            "pred: 1, target 1,   match: 1\n",
            "pred: 0, target 0,   match: 1\n",
            "pred: 1, target 1,   match: 1\n",
            "pred: 1, target 1,   match: 1\n",
            "pred: 0, target 1,   match: 0\n",
            "pred: 0, target 1,   match: 0\n",
            "pred: 1, target 1,   match: 1\n",
            "pred: 1, target 1,   match: 1\n",
            "pred: 1, target 1,   match: 1\n",
            "pred: 1, target 1,   match: 1\n",
            "pred: 0, target 0,   match: 1\n",
            "pred: 1, target 1,   match: 1\n",
            "pred: 0, target 0,   match: 1\n",
            "pred: 0, target 0,   match: 1\n",
            "pred: 0, target 0,   match: 1\n",
            "pred: 0, target 0,   match: 1\n",
            "pred: 0, target 0,   match: 1\n",
            "pred: 1, target 1,   match: 1\n",
            "pred: 1, target 1,   match: 1\n",
            "pred: 0, target 0,   match: 1\n",
            "pred: 1, target 1,   match: 1\n",
            "pred: 1, target 1,   match: 1\n",
            "pred: 0, target 0,   match: 1\n",
            "pred: 0, target 0,   match: 1\n",
            "pred: 0, target 0,   match: 1\n",
            "pred: 0, target 0,   match: 1\n",
            "pred: 1, target 1,   match: 1\n",
            "pred: 0, target 0,   match: 1\n",
            "pred: 1, target 1,   match: 1\n",
            "pred: 1, target 1,   match: 1\n",
            "pred: 0, target 0,   match: 1\n"
          ]
        },
        {
          "output_type": "execute_result",
          "data": {
            "text/plain": [
              "(tensor([[ 0.5258],\n",
              "         [ 0.8653],\n",
              "         [ 0.1862],\n",
              "         [ 0.3394],\n",
              "         [ 1.4118],\n",
              "         [ 0.6473],\n",
              "         [-0.1412],\n",
              "         [ 0.5237],\n",
              "         [-1.2163],\n",
              "         [ 0.2542],\n",
              "         [-0.5325],\n",
              "         [ 0.9348],\n",
              "         [ 2.0133],\n",
              "         [-0.1452],\n",
              "         [ 0.7536],\n",
              "         [-1.1988],\n",
              "         [-0.8155],\n",
              "         [ 0.1698],\n",
              "         [ 0.7537],\n",
              "         [-1.3546],\n",
              "         [ 0.0174],\n",
              "         [-1.3198],\n",
              "         [ 3.0065],\n",
              "         [ 0.3005],\n",
              "         [-0.5575],\n",
              "         [ 0.8816],\n",
              "         [-0.5776],\n",
              "         [ 1.1805],\n",
              "         [ 0.1884],\n",
              "         [ 1.0792]], requires_grad=True),\n",
              " tensor([0.2826], requires_grad=True))"
            ]
          },
          "metadata": {},
          "execution_count": 9
        }
      ]
    },
    {
      "cell_type": "code",
      "source": [
        "class NeuralNet(LinearModel):\n",
        "  def __init__(self, layers, x, y, x_validate, y_validate, loss_fn, metrics):\n",
        "    self.layers = layers\n",
        "    self.x = x\n",
        "    self.y = y\n",
        "    self.x_validate = x_validate\n",
        "    self.y_validate = y_validate\n",
        "    self.loss_fn = loss_fn\n",
        "    self.metrics = metrics\n",
        "    self.z = None\n",
        "\n",
        "  def predict(self, x):\n",
        "    for layer in self.layers[:-1]:\n",
        "      res = x@layer[0] + layer[1]\n",
        "      res = res.max(torch.tensor(0.0))\n",
        "      if torch.isnan(res).any():\n",
        "        print(\"nan after during prediction in inner layers\")\n",
        "        # pdb.set_trace()\n",
        "\n",
        "    res = res@self.layers[-1][0] + self.layers[-1][1]\n",
        "    self.z = res\n",
        "    if torch.isnan(self.z).any():\n",
        "      print(\"nan after during prediction\")\n",
        "      # pdb.set_trace()\n",
        "    return sigmoid(res)\n",
        "\n",
        "  def step(self, loss, learning_rate):\n",
        "    loss.backward()\n",
        "    for layer in self.layers:\n",
        "      for p in layer:\n",
        "        p.data -= p.grad.data * learning_rate\n",
        "        if torch.isnan(p).any():\n",
        "          print(\"nan after backpropagation\")\n",
        "          # pdb.set_trace()\n",
        "        p.grad.zero_()\n"
      ],
      "metadata": {
        "id": "TT_vNmkfKZIo"
      },
      "execution_count": 10,
      "outputs": []
    },
    {
      "cell_type": "code",
      "source": [
        "neurons = 3\n",
        "w1 = init_params((30,neurons))\n",
        "b1 = init_params(neurons)\n",
        "w2 = init_params((neurons,1))\n",
        "b2 = init_params(1)\n",
        "\n",
        "layer1 = [w1, b1]\n",
        "layer2 = [w2, b2]\n",
        "layers = [layer1, layer2]\n",
        "\n",
        "model2 = NeuralNet(layers, X_train_normalized, y_train_tensor, X_test_normalized, y_test_tensor, nn.BCELoss(), batch_accuracy)\n",
        "model2.train(epoch=50, learning_rate=1e-1)"
      ],
      "metadata": {
        "colab": {
          "base_uri": "https://localhost:8080/"
        },
        "id": "1n7KNcDDNP5X",
        "outputId": "42cd48f5-67cf-4d37-ec08-e43ab9197c0d"
      },
      "execution_count": 11,
      "outputs": [
        {
          "output_type": "stream",
          "name": "stdout",
          "text": [
            "epoch 0: loss: 1.4934221506118774, accuracy: 0.4703296720981598, validation: 0.5351\n",
            "epoch 1: loss: 0.8311249613761902, accuracy: 0.6175824403762817, validation: 0.6842\n",
            "epoch 2: loss: 0.5113006830215454, accuracy: 0.7626373767852783, validation: 0.8246\n",
            "epoch 3: loss: 0.38411933183670044, accuracy: 0.8461538553237915, validation: 0.8684\n",
            "epoch 4: loss: 0.3271823823451996, accuracy: 0.8813186883926392, validation: 0.9035\n",
            "epoch 5: loss: 0.2972872853279114, accuracy: 0.8857142925262451, validation: 0.9123\n",
            "epoch 6: loss: 0.2790103852748871, accuracy: 0.892307698726654, validation: 0.9386\n",
            "epoch 7: loss: 0.26611244678497314, accuracy: 0.898901104927063, validation: 0.9386\n",
            "epoch 8: loss: 0.2556736171245575, accuracy: 0.903296709060669, validation: 0.9386\n",
            "epoch 9: loss: 0.24549831449985504, accuracy: 0.903296709060669, validation: 0.9386\n",
            "epoch 10: loss: 0.23618640005588531, accuracy: 0.898901104927063, validation: 0.9474\n",
            "epoch 11: loss: 0.22777873277664185, accuracy: 0.9076923131942749, validation: 0.9474\n",
            "epoch 12: loss: 0.22091640532016754, accuracy: 0.9098901152610779, validation: 0.9561\n",
            "epoch 13: loss: 0.21505042910575867, accuracy: 0.9164835214614868, validation: 0.9561\n",
            "epoch 14: loss: 0.2102600485086441, accuracy: 0.9230769276618958, validation: 0.9561\n",
            "epoch 15: loss: 0.20621556043624878, accuracy: 0.9252747297286987, validation: 0.9561\n",
            "epoch 16: loss: 0.20267121493816376, accuracy: 0.9274725317955017, validation: 0.9561\n",
            "epoch 17: loss: 0.1993308961391449, accuracy: 0.9274725317955017, validation: 0.9561\n",
            "epoch 18: loss: 0.19629892706871033, accuracy: 0.9274725317955017, validation: 0.9561\n",
            "epoch 19: loss: 0.19316083192825317, accuracy: 0.9362637400627136, validation: 0.9649\n",
            "epoch 20: loss: 0.19028890132904053, accuracy: 0.9362637400627136, validation: 0.9649\n",
            "epoch 21: loss: 0.18756921589374542, accuracy: 0.9384615421295166, validation: 0.9649\n",
            "epoch 22: loss: 0.18511725962162018, accuracy: 0.9406593441963196, validation: 0.9649\n",
            "epoch 23: loss: 0.18289043009281158, accuracy: 0.9406593441963196, validation: 0.9649\n",
            "epoch 24: loss: 0.18085777759552002, accuracy: 0.9406593441963196, validation: 0.9649\n",
            "epoch 25: loss: 0.17897231876850128, accuracy: 0.9406593441963196, validation: 0.9649\n",
            "epoch 26: loss: 0.17721208930015564, accuracy: 0.9406593441963196, validation: 0.9649\n",
            "epoch 27: loss: 0.17555971443653107, accuracy: 0.9406593441963196, validation: 0.9649\n",
            "epoch 28: loss: 0.1740010678768158, accuracy: 0.9450549483299255, validation: 0.9649\n",
            "epoch 29: loss: 0.17252472043037415, accuracy: 0.9472527503967285, validation: 0.9649\n",
            "epoch 30: loss: 0.17110547423362732, accuracy: 0.9472527503967285, validation: 0.9649\n",
            "epoch 31: loss: 0.16946040093898773, accuracy: 0.9472527503967285, validation: 0.9649\n",
            "epoch 32: loss: 0.1679125726222992, accuracy: 0.9472527503967285, validation: 0.9649\n",
            "epoch 33: loss: 0.16645032167434692, accuracy: 0.9472527503967285, validation: 0.9649\n",
            "epoch 34: loss: 0.16506387293338776, accuracy: 0.9494505524635315, validation: 0.9649\n",
            "epoch 35: loss: 0.16374513506889343, accuracy: 0.9494505524635315, validation: 0.9649\n",
            "epoch 36: loss: 0.16248714923858643, accuracy: 0.9494505524635315, validation: 0.9649\n",
            "epoch 37: loss: 0.16128411889076233, accuracy: 0.9516483545303345, validation: 0.9649\n",
            "epoch 38: loss: 0.16013097763061523, accuracy: 0.9538461565971375, validation: 0.9649\n",
            "epoch 39: loss: 0.1590234488248825, accuracy: 0.9560439586639404, validation: 0.9649\n",
            "epoch 40: loss: 0.15795768797397614, accuracy: 0.9560439586639404, validation: 0.9737\n",
            "epoch 41: loss: 0.15693047642707825, accuracy: 0.9560439586639404, validation: 0.9737\n",
            "epoch 42: loss: 0.15593895316123962, accuracy: 0.9560439586639404, validation: 0.9737\n",
            "epoch 43: loss: 0.15498057007789612, accuracy: 0.9560439586639404, validation: 0.9737\n",
            "epoch 44: loss: 0.15405310690402985, accuracy: 0.9604395627975464, validation: 0.9737\n",
            "epoch 45: loss: 0.15315455198287964, accuracy: 0.9604395627975464, validation: 0.9737\n",
            "epoch 46: loss: 0.15228310227394104, accuracy: 0.9626373648643494, validation: 0.9737\n",
            "epoch 47: loss: 0.15142540633678436, accuracy: 0.9626373648643494, validation: 0.9737\n",
            "epoch 48: loss: 0.1505364030599594, accuracy: 0.9626373648643494, validation: 0.9737\n",
            "epoch 49: loss: 0.14967520534992218, accuracy: 0.9626373648643494, validation: 0.9737\n"
          ]
        }
      ]
    },
    {
      "cell_type": "code",
      "source": [
        "random_test(model2)\n",
        "model2.layers"
      ],
      "metadata": {
        "colab": {
          "base_uri": "https://localhost:8080/"
        },
        "id": "04V9qPmZLhpE",
        "outputId": "ab191cfd-60c5-4f95-ff6a-c1d65ec28955"
      },
      "execution_count": 12,
      "outputs": [
        {
          "output_type": "stream",
          "name": "stdout",
          "text": [
            "pred: 1, target 1,   match: 1\n",
            "pred: 1, target 1,   match: 1\n",
            "pred: 0, target 0,   match: 1\n",
            "pred: 0, target 1,   match: 0\n",
            "pred: 1, target 1,   match: 1\n",
            "pred: 0, target 1,   match: 0\n",
            "pred: 0, target 1,   match: 0\n",
            "pred: 1, target 1,   match: 1\n",
            "pred: 1, target 1,   match: 1\n",
            "pred: 1, target 1,   match: 1\n",
            "pred: 1, target 1,   match: 1\n",
            "pred: 0, target 0,   match: 1\n",
            "pred: 1, target 1,   match: 1\n",
            "pred: 0, target 0,   match: 1\n",
            "pred: 0, target 0,   match: 1\n",
            "pred: 0, target 0,   match: 1\n",
            "pred: 0, target 0,   match: 1\n",
            "pred: 0, target 0,   match: 1\n",
            "pred: 1, target 1,   match: 1\n",
            "pred: 1, target 1,   match: 1\n",
            "pred: 0, target 0,   match: 1\n",
            "pred: 1, target 1,   match: 1\n",
            "pred: 1, target 1,   match: 1\n",
            "pred: 0, target 0,   match: 1\n",
            "pred: 0, target 0,   match: 1\n",
            "pred: 0, target 0,   match: 1\n",
            "pred: 0, target 0,   match: 1\n",
            "pred: 1, target 1,   match: 1\n",
            "pred: 0, target 0,   match: 1\n",
            "pred: 1, target 1,   match: 1\n",
            "pred: 1, target 1,   match: 1\n",
            "pred: 0, target 0,   match: 1\n"
          ]
        },
        {
          "output_type": "execute_result",
          "data": {
            "text/plain": [
              "[[tensor([[ 1.2173,  0.1943, -0.2988],\n",
              "          [-0.0109,  0.9105,  0.4443],\n",
              "          [-0.1609, -0.8381, -0.8514],\n",
              "          [-1.0652,  0.0607, -0.1899],\n",
              "          [ 0.1911, -2.3014, -0.2359],\n",
              "          [-0.3281, -0.9118, -0.4874],\n",
              "          [-1.3552,  0.0598,  0.6202],\n",
              "          [-1.3204,  0.9788,  1.3647],\n",
              "          [ 0.3760, -0.6247,  0.2586],\n",
              "          [-0.2069, -0.0730, -0.2081],\n",
              "          [ 0.0352,  0.7597, -0.7034],\n",
              "          [ 0.2611, -2.4341,  0.0490],\n",
              "          [-0.8986, -0.0538, -0.4731],\n",
              "          [ 0.0374,  1.2350, -0.0407],\n",
              "          [-2.2704,  0.2302,  1.1263],\n",
              "          [-1.9125, -0.5432, -0.4881],\n",
              "          [ 1.7176,  0.4430,  0.3617],\n",
              "          [-0.1561,  0.4991, -1.0878],\n",
              "          [-0.6286,  0.9054,  0.3999],\n",
              "          [ 0.5534, -0.9575, -0.2215],\n",
              "          [-0.0257, -0.0269,  2.5339],\n",
              "          [ 0.8283, -0.6421, -0.1836],\n",
              "          [ 1.4056, -1.7520,  0.9900],\n",
              "          [ 0.2671, -1.8218,  1.7101],\n",
              "          [ 0.2835, -0.0185, -0.6755],\n",
              "          [-0.3127,  2.0165,  0.2798],\n",
              "          [-0.0228, -1.4984,  0.3040],\n",
              "          [-0.1536, -0.4961,  0.5106],\n",
              "          [-0.5507, -1.0922, -0.0968],\n",
              "          [-0.4053, -0.6302,  0.7931]], requires_grad=True),\n",
              "  tensor([-0.2600,  0.8112,  0.6232], requires_grad=True)],\n",
              " [tensor([[ 0.0713],\n",
              "          [-0.3668],\n",
              "          [ 1.6704]], requires_grad=True),\n",
              "  tensor([-1.5440], requires_grad=True)]]"
            ]
          },
          "metadata": {},
          "execution_count": 12
        }
      ]
    }
  ]
}