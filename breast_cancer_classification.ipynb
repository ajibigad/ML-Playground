{
  "nbformat": 4,
  "nbformat_minor": 0,
  "metadata": {
    "colab": {
      "provenance": [],
      "mount_file_id": "1jnxUCjPjtGhcbxHvmWhcF-9Uz4jHyRgK",
      "authorship_tag": "ABX9TyMzqmsVSj+GPKhB4gtk+Lmi",
      "include_colab_link": true
    },
    "kernelspec": {
      "name": "python3",
      "display_name": "Python 3"
    },
    "language_info": {
      "name": "python"
    }
  },
  "cells": [
    {
      "cell_type": "markdown",
      "metadata": {
        "id": "view-in-github",
        "colab_type": "text"
      },
      "source": [
        "<a href=\"https://colab.research.google.com/github/ajibigad/ML-Playground/blob/main/breast_cancer_classification.ipynb\" target=\"_parent\"><img src=\"https://colab.research.google.com/assets/colab-badge.svg\" alt=\"Open In Colab\"/></a>"
      ]
    },
    {
      "cell_type": "code",
      "execution_count": 13,
      "metadata": {
        "colab": {
          "base_uri": "https://localhost:8080/"
        },
        "id": "4bXL7SdKkCZr",
        "outputId": "1b161dcc-4a40-4fde-f8aa-d926f82586e5"
      },
      "outputs": [
        {
          "output_type": "stream",
          "name": "stdout",
          "text": [
            "Google Drive is already mounted.\n",
            "/content/drive/MyDrive/Colab Notebooks/breast-cancer.csv already exists\n"
          ]
        }
      ],
      "source": [
        "import os\n",
        "import pandas as pd\n",
        "\n",
        "from google.colab import files, drive\n",
        "import shutil\n",
        "\n",
        "if not os.path.ismount('/content/drive'):\n",
        "    print(\"Mounting Google Drive...\")\n",
        "    drive.mount('/content/drive')\n",
        "else:\n",
        "    print(\"Google Drive is already mounted.\")\n",
        "\n",
        "destination = \"/content/drive/MyDrive/Colab Notebooks/breast-cancer.csv\"  # Set the destination path in your Drive\n",
        "\n",
        "if not os.path.exists(destination):\n",
        "  uploaded = files.upload()\n",
        "  filename = list(uploaded.keys())[0]  # Get the uploaded filename\n",
        "  shutil.move(filename, destination)\n",
        "  print(f\"Uploaded file '{filename}' has been moved to Google Drive at '{destination}'\")\n",
        "else:\n",
        "  print(f\"{destination} already exists\")"
      ]
    },
    {
      "cell_type": "code",
      "source": [
        "from sklearn.preprocessing import LabelEncoder\n",
        "\n",
        "# Load CSV file into a pandas DataFrame\n",
        "df = pd.read_csv(destination)\n",
        "\n",
        "# Convert M -> 1 and B -> 0\n",
        "label_encoder = LabelEncoder()\n",
        "df['diagnosis'] = label_encoder.fit_transform(df['diagnosis'])\n",
        "\n",
        "X = df.drop(['id', 'diagnosis'], axis=1).values\n",
        "y = df['diagnosis'].values"
      ],
      "metadata": {
        "id": "c8Jj6WsxBKGK"
      },
      "execution_count": 14,
      "outputs": []
    },
    {
      "cell_type": "code",
      "source": [
        "from sklearn.model_selection import train_test_split\n",
        "import torch\n",
        "import torch.nn as nn\n",
        "\n",
        "\n",
        "X_train, X_test, y_train, y_test = train_test_split(X, y, test_size=0.2, random_state=42)\n",
        "\n",
        "# Convert the data to PyTorch tensors\n",
        "X_train_tensor = torch.tensor(X_train, dtype=torch.float32)\n",
        "y_train_tensor = torch.tensor(y_train, dtype=torch.float32).view(-1, 1)  # Reshape targets to rank 2 tensor eg. from (455) to (455, 1)\n",
        "X_test_tensor = torch.tensor(X_test, dtype=torch.float32)\n",
        "y_test_tensor = torch.tensor(y_test, dtype=torch.float32).view(-1, 1)  # Reshape targets to (455, 1)\n",
        "\n",
        "# Z-score normalization\n",
        "mean = X_train_tensor.mean(dim=0, keepdim=True)\n",
        "std = X_train_tensor.std(dim=0, keepdim=True)\n",
        "\n",
        "X_train_normalized = (X_train_tensor - mean) / std\n",
        "X_test_normalized = (X_test_tensor - mean) / std"
      ],
      "metadata": {
        "id": "a7npO4KDDb4S"
      },
      "execution_count": 15,
      "outputs": []
    },
    {
      "cell_type": "code",
      "source": [
        "import pdb\n",
        "import numpy as np\n",
        "\n",
        "def sigmoid(x): return 1/(1+torch.exp(-x))\n",
        "\n",
        "def abs_mean_loss(predictions, targets):\n",
        "  # // abs mean or mse but we did abs mean loss here\n",
        "  # // for every prediction, if the target is 1, then difference is 1-pred, else difference is abs(0-pred)\n",
        "  # // predictions will always be between 0 and 1 due to sigmond function\n",
        "  return torch.where(targets==1, 1-predictions, predictions).mean()\n",
        "\n",
        "def mse(preds, targets): return ((preds-targets)**2).mean()\n",
        "\n",
        "def batch_accuracy(predictions, targets):\n",
        "  with torch.no_grad():\n",
        "    correct = (predictions>=0.5) == targets\n",
        "    return correct.float().mean()\n",
        "\n",
        "def validate_epoch(model, val_data, val_target):\n",
        "    accs = [batch_accuracy(model.predict(xb), yb) for xb,yb in zip(val_data, val_target)]\n",
        "    return round(torch.stack(accs).mean().item(), 4)\n",
        "\n",
        "class LinearModel():\n",
        "  def __init__(self, weight, bias, x, y, x_validate, y_validate, loss_fn, metrics):\n",
        "    self.weight = weight\n",
        "    self.bias = bias\n",
        "    self.x = x\n",
        "    self.y = y\n",
        "    self.x_validate = x_validate\n",
        "    self.y_validate = y_validate\n",
        "    self.params = self.weight, self.bias\n",
        "    self.loss_fn = loss_fn\n",
        "    self.metrics = metrics\n",
        "    self.z = None\n",
        "\n",
        "  def predict(self, x):\n",
        "    # z(x) = xw + b\n",
        "    # y = g(z(x)) where g is an activation function\n",
        "    self.z = x@self.weight + self.bias\n",
        "\n",
        "    if torch.isnan(self.z).any():\n",
        "      pdb.set_trace()\n",
        "\n",
        "    # apply activation function\n",
        "    return sigmoid(self.z)\n",
        "\n",
        "  def step(self, loss, learning_rate):\n",
        "    # get loss\n",
        "    # calculate gradient, loss.backward()\n",
        "    # update parameters using learning rate\n",
        "    loss.backward()\n",
        "    for p in self.params:\n",
        "      p.data -= p.grad.data * learning_rate\n",
        "      p.grad.zero_()\n",
        "\n",
        "  def train(self, epoch, learning_rate):\n",
        "    for i in range(epoch):\n",
        "      preds = self.predict(self.x)\n",
        "      try:\n",
        "        loss = self.loss_fn(preds, self.y)\n",
        "      except:\n",
        "        print(preds.view(-1).tolist(), self.z)\n",
        "        raise\n",
        "      accuracy = self.metrics(preds, self.y)\n",
        "      validation = validate_epoch(self, self.x_validate, self.y_validate)\n",
        "      print(f\"epoch {i}: loss: {loss}, accuracy: {accuracy}, validation: {validation}\")\n",
        "      self.step(loss, learning_rate)\n",
        "\n",
        "def init_params(size, std=1.0): return (torch.randn(size)*std).requires_grad_()"
      ],
      "metadata": {
        "id": "LXVuVpX2F2Yp"
      },
      "execution_count": 16,
      "outputs": []
    },
    {
      "cell_type": "code",
      "source": [
        "w = init_params((X_train_normalized.shape[1], 1)) # size number of\n",
        "b = init_params(1)\n",
        "\n",
        "model = LinearModel(w, b, X_train_normalized, y_train_tensor, X_test_normalized, y_test_tensor, nn.BCELoss(), batch_accuracy)\n",
        "model.train(epoch=50, learning_rate=1e-1)"
      ],
      "metadata": {
        "colab": {
          "base_uri": "https://localhost:8080/"
        },
        "id": "WijSC5_hZuFz",
        "outputId": "6b509ed4-05cc-4efe-ecc4-6f8239b8cb90"
      },
      "execution_count": 17,
      "outputs": [
        {
          "output_type": "stream",
          "name": "stdout",
          "text": [
            "epoch 0: loss: 2.669750928878784, accuracy: 0.19560439884662628, validation: 0.193\n",
            "epoch 1: loss: 2.1073226928710938, accuracy: 0.2549450695514679, validation: 0.2193\n",
            "epoch 2: loss: 1.6575454473495483, accuracy: 0.3384615480899811, validation: 0.307\n",
            "epoch 3: loss: 1.322835087776184, accuracy: 0.40219780802726746, validation: 0.4561\n",
            "epoch 4: loss: 1.0862756967544556, accuracy: 0.48571428656578064, validation: 0.5351\n",
            "epoch 5: loss: 0.9203118681907654, accuracy: 0.5472527742385864, validation: 0.5614\n",
            "epoch 6: loss: 0.800133466720581, accuracy: 0.6065934300422668, validation: 0.6053\n",
            "epoch 7: loss: 0.7099872827529907, accuracy: 0.6527472734451294, validation: 0.6404\n",
            "epoch 8: loss: 0.6403664946556091, accuracy: 0.6835165023803711, validation: 0.6842\n",
            "epoch 9: loss: 0.5852901935577393, accuracy: 0.7098901271820068, validation: 0.7018\n",
            "epoch 10: loss: 0.5408181548118591, accuracy: 0.7274725437164307, validation: 0.7193\n",
            "epoch 11: loss: 0.5042439103126526, accuracy: 0.7450549602508545, validation: 0.7719\n",
            "epoch 12: loss: 0.4736691415309906, accuracy: 0.7692307829856873, validation: 0.807\n",
            "epoch 13: loss: 0.4477246105670929, accuracy: 0.791208803653717, validation: 0.8158\n",
            "epoch 14: loss: 0.4254123568534851, accuracy: 0.8021978139877319, validation: 0.8246\n",
            "epoch 15: loss: 0.40599387884140015, accuracy: 0.8087912201881409, validation: 0.8333\n",
            "epoch 16: loss: 0.38891327381134033, accuracy: 0.8219780325889587, validation: 0.8421\n",
            "epoch 17: loss: 0.3737461566925049, accuracy: 0.8285714387893677, validation: 0.8421\n",
            "epoch 18: loss: 0.3601650595664978, accuracy: 0.8461538553237915, validation: 0.8596\n",
            "epoch 19: loss: 0.3479132354259491, accuracy: 0.8593406677246094, validation: 0.8596\n",
            "epoch 20: loss: 0.3367869555950165, accuracy: 0.8659340739250183, validation: 0.8684\n",
            "epoch 21: loss: 0.3266228437423706, accuracy: 0.8659340739250183, validation: 0.8684\n",
            "epoch 22: loss: 0.31728827953338623, accuracy: 0.8725274801254272, validation: 0.8684\n",
            "epoch 23: loss: 0.30867457389831543, accuracy: 0.8769230842590332, validation: 0.8772\n",
            "epoch 24: loss: 0.3006918430328369, accuracy: 0.8791208863258362, validation: 0.8947\n",
            "epoch 25: loss: 0.29326507449150085, accuracy: 0.8879120945930481, validation: 0.9035\n",
            "epoch 26: loss: 0.28633108735084534, accuracy: 0.8879120945930481, validation: 0.9035\n",
            "epoch 27: loss: 0.27983638644218445, accuracy: 0.8901098966598511, validation: 0.9035\n",
            "epoch 28: loss: 0.27373549342155457, accuracy: 0.901098906993866, validation: 0.9035\n",
            "epoch 29: loss: 0.2679891586303711, accuracy: 0.903296709060669, validation: 0.9035\n",
            "epoch 30: loss: 0.26256364583969116, accuracy: 0.9054945111274719, validation: 0.9035\n",
            "epoch 31: loss: 0.25742971897125244, accuracy: 0.9054945111274719, validation: 0.9035\n",
            "epoch 32: loss: 0.2525617778301239, accuracy: 0.9076923131942749, validation: 0.9123\n",
            "epoch 33: loss: 0.24793751537799835, accuracy: 0.9076923131942749, validation: 0.9123\n",
            "epoch 34: loss: 0.24353724718093872, accuracy: 0.9098901152610779, validation: 0.9123\n",
            "epoch 35: loss: 0.23934361338615417, accuracy: 0.9098901152610779, validation: 0.9123\n",
            "epoch 36: loss: 0.23534129559993744, accuracy: 0.9098901152610779, validation: 0.9123\n",
            "epoch 37: loss: 0.23151664435863495, accuracy: 0.9098901152610779, validation: 0.9123\n",
            "epoch 38: loss: 0.22785747051239014, accuracy: 0.9142857193946838, validation: 0.9123\n",
            "epoch 39: loss: 0.2243528664112091, accuracy: 0.9142857193946838, validation: 0.9123\n",
            "epoch 40: loss: 0.2209930717945099, accuracy: 0.9186813235282898, validation: 0.9123\n",
            "epoch 41: loss: 0.21776920557022095, accuracy: 0.9186813235282898, validation: 0.9211\n",
            "epoch 42: loss: 0.21467337012290955, accuracy: 0.9208791255950928, validation: 0.9211\n",
            "epoch 43: loss: 0.21169832348823547, accuracy: 0.9208791255950928, validation: 0.9211\n",
            "epoch 44: loss: 0.20883749425411224, accuracy: 0.9208791255950928, validation: 0.9298\n",
            "epoch 45: loss: 0.20608478784561157, accuracy: 0.9208791255950928, validation: 0.9298\n",
            "epoch 46: loss: 0.2034347802400589, accuracy: 0.9230769276618958, validation: 0.9298\n",
            "epoch 47: loss: 0.20088234543800354, accuracy: 0.9230769276618958, validation: 0.9298\n",
            "epoch 48: loss: 0.19842280447483063, accuracy: 0.9252747297286987, validation: 0.9298\n",
            "epoch 49: loss: 0.1960517168045044, accuracy: 0.9252747297286987, validation: 0.9298\n"
          ]
        }
      ]
    },
    {
      "cell_type": "code",
      "source": [
        "def random_test(model):\n",
        "  test_X = X[35:67]\n",
        "  test_y = y[35:67]\n",
        "\n",
        "  test_X_tensor = torch.tensor(test_X, dtype=torch.float32)\n",
        "  test_X_tensor_normalized = (test_X_tensor - mean) / std\n",
        "\n",
        "  # print(test_X)\n",
        "\n",
        "  preds = (model.predict(test_X_tensor_normalized).view(-1) >= 0.5).tolist()\n",
        "  targets = test_y >= 0.5\n",
        "  for pred, target in zip(preds, targets):\n",
        "    print(f\"pred: {pred:>1}, target {target:>1},   match: {pred==target:>1}\")"
      ],
      "metadata": {
        "id": "w8TV0alJU9O9"
      },
      "execution_count": 18,
      "outputs": []
    },
    {
      "cell_type": "code",
      "source": [
        "random_test(model)\n",
        "model.params"
      ],
      "metadata": {
        "colab": {
          "base_uri": "https://localhost:8080/"
        },
        "id": "ZuMpme9iTjjk",
        "outputId": "1cc8e834-daf2-4065-da20-1433140d2390"
      },
      "execution_count": 19,
      "outputs": [
        {
          "output_type": "stream",
          "name": "stdout",
          "text": [
            "pred: 1, target 1,   match: 1\n",
            "pred: 1, target 1,   match: 1\n",
            "pred: 0, target 0,   match: 1\n",
            "pred: 0, target 1,   match: 0\n",
            "pred: 1, target 1,   match: 1\n",
            "pred: 0, target 1,   match: 0\n",
            "pred: 0, target 1,   match: 0\n",
            "pred: 1, target 1,   match: 1\n",
            "pred: 1, target 1,   match: 1\n",
            "pred: 0, target 1,   match: 0\n",
            "pred: 1, target 1,   match: 1\n",
            "pred: 0, target 0,   match: 1\n",
            "pred: 1, target 1,   match: 1\n",
            "pred: 0, target 0,   match: 1\n",
            "pred: 0, target 0,   match: 1\n",
            "pred: 0, target 0,   match: 1\n",
            "pred: 0, target 0,   match: 1\n",
            "pred: 0, target 0,   match: 1\n",
            "pred: 1, target 1,   match: 1\n",
            "pred: 1, target 1,   match: 1\n",
            "pred: 0, target 0,   match: 1\n",
            "pred: 1, target 1,   match: 1\n",
            "pred: 1, target 1,   match: 1\n",
            "pred: 0, target 0,   match: 1\n",
            "pred: 0, target 0,   match: 1\n",
            "pred: 1, target 0,   match: 0\n",
            "pred: 0, target 0,   match: 1\n",
            "pred: 1, target 1,   match: 1\n",
            "pred: 0, target 0,   match: 1\n",
            "pred: 1, target 1,   match: 1\n",
            "pred: 1, target 1,   match: 1\n",
            "pred: 0, target 0,   match: 1\n"
          ]
        },
        {
          "output_type": "execute_result",
          "data": {
            "text/plain": [
              "(tensor([[-0.9323],\n",
              "         [ 0.9114],\n",
              "         [ 0.0852],\n",
              "         [ 2.1837],\n",
              "         [ 2.0660],\n",
              "         [ 0.1539],\n",
              "         [-0.9970],\n",
              "         [ 0.2827],\n",
              "         [ 0.6096],\n",
              "         [-1.0862],\n",
              "         [-1.2712],\n",
              "         [-0.6088],\n",
              "         [ 0.6329],\n",
              "         [ 1.1695],\n",
              "         [ 0.7023],\n",
              "         [-1.1133],\n",
              "         [ 0.7984],\n",
              "         [-0.4331],\n",
              "         [ 0.8844],\n",
              "         [ 0.6218],\n",
              "         [ 0.6715],\n",
              "         [ 0.3528],\n",
              "         [ 0.7818],\n",
              "         [ 0.5043],\n",
              "         [-1.1342],\n",
              "         [ 0.6044],\n",
              "         [ 0.9468],\n",
              "         [ 0.2875],\n",
              "         [ 0.2243],\n",
              "         [-0.2090]], requires_grad=True),\n",
              " tensor([0.2283], requires_grad=True))"
            ]
          },
          "metadata": {},
          "execution_count": 19
        }
      ]
    },
    {
      "cell_type": "code",
      "source": [
        "class NeuralNet(LinearModel):\n",
        "  def __init__(self, layers, x, y, x_validate, y_validate, loss_fn, metrics):\n",
        "    self.layers = layers\n",
        "    self.x = x\n",
        "    self.y = y\n",
        "    self.x_validate = x_validate\n",
        "    self.y_validate = y_validate\n",
        "    self.loss_fn = loss_fn\n",
        "    self.metrics = metrics\n",
        "    self.z = None\n",
        "\n",
        "  def predict(self, x):\n",
        "    for layer in self.layers[:-1]:\n",
        "      res = x@layer[0] + layer[1]\n",
        "      res = res.max(torch.tensor(0.0))\n",
        "      if torch.isnan(res).any():\n",
        "        print(\"nan after during prediction in inner layers\")\n",
        "        # pdb.set_trace()\n",
        "\n",
        "    res = res@self.layers[-1][0] + self.layers[-1][1]\n",
        "    self.z = res\n",
        "    if torch.isnan(self.z).any():\n",
        "      print(\"nan after during prediction\")\n",
        "      # pdb.set_trace()\n",
        "    return sigmoid(res)\n",
        "\n",
        "  def step(self, loss, learning_rate):\n",
        "    loss.backward()\n",
        "    for layer in self.layers:\n",
        "      for p in layer:\n",
        "        p.data -= p.grad.data * learning_rate\n",
        "        if torch.isnan(p).any():\n",
        "          print(\"nan after backpropagation\")\n",
        "          # pdb.set_trace()\n",
        "        p.grad.zero_()\n"
      ],
      "metadata": {
        "id": "TT_vNmkfKZIo"
      },
      "execution_count": 30,
      "outputs": []
    },
    {
      "cell_type": "code",
      "source": [
        "neurons = 3\n",
        "w1 = init_params((30,neurons))\n",
        "b1 = init_params(neurons)\n",
        "w2 = init_params((neurons,1))\n",
        "b2 = init_params(1)\n",
        "\n",
        "layer1 = [w1, b1]\n",
        "layer2 = [w2, b2]\n",
        "layers = [layer1, layer2]\n",
        "\n",
        "model2 = NeuralNet(layers, X_train_normalized, y_train_tensor, X_test_normalized, y_test_tensor, nn.BCELoss(), batch_accuracy)\n",
        "model2.train(epoch=50, learning_rate=1e-1)"
      ],
      "metadata": {
        "colab": {
          "base_uri": "https://localhost:8080/"
        },
        "id": "1n7KNcDDNP5X",
        "outputId": "ae92459b-0846-4f47-a76f-a4c6928b4727"
      },
      "execution_count": 40,
      "outputs": [
        {
          "output_type": "stream",
          "name": "stdout",
          "text": [
            "epoch 0: loss: 2.6648316383361816, accuracy: 0.4285714328289032, validation: 0.4035\n",
            "epoch 1: loss: 2.1337993144989014, accuracy: 0.4307692348957062, validation: 0.4386\n",
            "epoch 2: loss: 1.732007384300232, accuracy: 0.4571428596973419, validation: 0.4649\n",
            "epoch 3: loss: 1.4322041273117065, accuracy: 0.5010989308357239, validation: 0.4912\n",
            "epoch 4: loss: 1.21170175075531, accuracy: 0.5362637639045715, validation: 0.5175\n",
            "epoch 5: loss: 1.0547499656677246, accuracy: 0.5714285969734192, validation: 0.5263\n",
            "epoch 6: loss: 0.9423450231552124, accuracy: 0.5978022217750549, validation: 0.5526\n",
            "epoch 7: loss: 0.8547509908676147, accuracy: 0.6241758465766907, validation: 0.5614\n",
            "epoch 8: loss: 0.7872779965400696, accuracy: 0.6593406796455383, validation: 0.5789\n",
            "epoch 9: loss: 0.7337020039558411, accuracy: 0.6813187003135681, validation: 0.6053\n",
            "epoch 10: loss: 0.689014196395874, accuracy: 0.6989011168479919, validation: 0.6053\n",
            "epoch 11: loss: 0.6511649489402771, accuracy: 0.7098901271820068, validation: 0.6404\n",
            "epoch 12: loss: 0.6191828846931458, accuracy: 0.7318681478500366, validation: 0.6491\n",
            "epoch 13: loss: 0.5908405184745789, accuracy: 0.7560439705848694, validation: 0.6404\n",
            "epoch 14: loss: 0.5655097961425781, accuracy: 0.7692307829856873, validation: 0.6579\n",
            "epoch 15: loss: 0.5411173105239868, accuracy: 0.7802197933197021, validation: 0.6754\n",
            "epoch 16: loss: 0.5174028873443604, accuracy: 0.800000011920929, validation: 0.6842\n",
            "epoch 17: loss: 0.4965391457080841, accuracy: 0.8175824284553528, validation: 0.7193\n",
            "epoch 18: loss: 0.4774021804332733, accuracy: 0.8285714387893677, validation: 0.7368\n",
            "epoch 19: loss: 0.459990918636322, accuracy: 0.8373626470565796, validation: 0.7544\n",
            "epoch 20: loss: 0.4434334635734558, accuracy: 0.8505494594573975, validation: 0.7895\n",
            "epoch 21: loss: 0.42825159430503845, accuracy: 0.8615384697914124, validation: 0.8158\n",
            "epoch 22: loss: 0.4140680134296417, accuracy: 0.8725274801254272, validation: 0.8333\n",
            "epoch 23: loss: 0.40146884322166443, accuracy: 0.8725274801254272, validation: 0.8333\n",
            "epoch 24: loss: 0.38996991515159607, accuracy: 0.8813186883926392, validation: 0.8333\n",
            "epoch 25: loss: 0.3794555366039276, accuracy: 0.8857142925262451, validation: 0.8421\n",
            "epoch 26: loss: 0.3693336248397827, accuracy: 0.901098906993866, validation: 0.8684\n",
            "epoch 27: loss: 0.3601613938808441, accuracy: 0.901098906993866, validation: 0.886\n",
            "epoch 28: loss: 0.35185882449150085, accuracy: 0.898901104927063, validation: 0.9035\n",
            "epoch 29: loss: 0.3442521095275879, accuracy: 0.903296709060669, validation: 0.9035\n",
            "epoch 30: loss: 0.33718982338905334, accuracy: 0.903296709060669, validation: 0.9035\n",
            "epoch 31: loss: 0.33062657713890076, accuracy: 0.903296709060669, validation: 0.9035\n",
            "epoch 32: loss: 0.3244115114212036, accuracy: 0.9054945111274719, validation: 0.9035\n",
            "epoch 33: loss: 0.3186876177787781, accuracy: 0.9076923131942749, validation: 0.9035\n",
            "epoch 34: loss: 0.3135461211204529, accuracy: 0.9098901152610779, validation: 0.9123\n",
            "epoch 35: loss: 0.30866894125938416, accuracy: 0.9120879173278809, validation: 0.9123\n",
            "epoch 36: loss: 0.30403536558151245, accuracy: 0.9120879173278809, validation: 0.9123\n",
            "epoch 37: loss: 0.2997135519981384, accuracy: 0.9120879173278809, validation: 0.9123\n",
            "epoch 38: loss: 0.2956060469150543, accuracy: 0.9142857193946838, validation: 0.9123\n",
            "epoch 39: loss: 0.29169487953186035, accuracy: 0.9164835214614868, validation: 0.9123\n",
            "epoch 40: loss: 0.28794410824775696, accuracy: 0.9164835214614868, validation: 0.9123\n",
            "epoch 41: loss: 0.2843130826950073, accuracy: 0.9164835214614868, validation: 0.9123\n",
            "epoch 42: loss: 0.2808436453342438, accuracy: 0.9164835214614868, validation: 0.9123\n",
            "epoch 43: loss: 0.2774798572063446, accuracy: 0.9186813235282898, validation: 0.9123\n",
            "epoch 44: loss: 0.2742963135242462, accuracy: 0.9186813235282898, validation: 0.9123\n",
            "epoch 45: loss: 0.2714228332042694, accuracy: 0.9186813235282898, validation: 0.9123\n",
            "epoch 46: loss: 0.2686941623687744, accuracy: 0.9164835214614868, validation: 0.9123\n",
            "epoch 47: loss: 0.26610928773880005, accuracy: 0.9164835214614868, validation: 0.9123\n",
            "epoch 48: loss: 0.26366063952445984, accuracy: 0.9164835214614868, validation: 0.9123\n",
            "epoch 49: loss: 0.2612970769405365, accuracy: 0.9164835214614868, validation: 0.9123\n"
          ]
        }
      ]
    },
    {
      "cell_type": "code",
      "source": [
        "random_test(model2)\n",
        "model2.layers"
      ],
      "metadata": {
        "colab": {
          "base_uri": "https://localhost:8080/"
        },
        "id": "04V9qPmZLhpE",
        "outputId": "333c011c-1cb4-47eb-c449-06a6496c6ccf"
      },
      "execution_count": 41,
      "outputs": [
        {
          "output_type": "stream",
          "name": "stdout",
          "text": [
            "pred: 1, target 1,   match: 1\n",
            "pred: 1, target 1,   match: 1\n",
            "pred: 0, target 0,   match: 1\n",
            "pred: 0, target 1,   match: 0\n",
            "pred: 1, target 1,   match: 1\n",
            "pred: 0, target 1,   match: 0\n",
            "pred: 0, target 1,   match: 0\n",
            "pred: 1, target 1,   match: 1\n",
            "pred: 1, target 1,   match: 1\n",
            "pred: 1, target 1,   match: 1\n",
            "pred: 1, target 1,   match: 1\n",
            "pred: 0, target 0,   match: 1\n",
            "pred: 1, target 1,   match: 1\n",
            "pred: 0, target 0,   match: 1\n",
            "pred: 1, target 0,   match: 0\n",
            "pred: 0, target 0,   match: 1\n",
            "pred: 0, target 0,   match: 1\n",
            "pred: 0, target 0,   match: 1\n",
            "pred: 1, target 1,   match: 1\n",
            "pred: 1, target 1,   match: 1\n",
            "pred: 0, target 0,   match: 1\n",
            "pred: 1, target 1,   match: 1\n",
            "pred: 1, target 1,   match: 1\n",
            "pred: 0, target 0,   match: 1\n",
            "pred: 0, target 0,   match: 1\n",
            "pred: 0, target 0,   match: 1\n",
            "pred: 0, target 0,   match: 1\n",
            "pred: 1, target 1,   match: 1\n",
            "pred: 0, target 0,   match: 1\n",
            "pred: 1, target 1,   match: 1\n",
            "pred: 1, target 1,   match: 1\n",
            "pred: 0, target 0,   match: 1\n"
          ]
        },
        {
          "output_type": "execute_result",
          "data": {
            "text/plain": [
              "[[tensor([[ 1.2383,  1.1942, -0.9469],\n",
              "          [ 0.0942, -0.1442, -2.2273],\n",
              "          [-1.7200, -0.0260,  0.3555],\n",
              "          [ 0.4452, -1.0220, -0.4364],\n",
              "          [-0.9116, -0.1421, -1.0726],\n",
              "          [-0.1580,  0.4530,  0.4340],\n",
              "          [ 1.0321, -1.2220, -2.1283],\n",
              "          [ 0.0423, -0.8246, -0.6428],\n",
              "          [-2.5702,  0.0575,  0.7201],\n",
              "          [ 1.1303, -0.4688, -0.6655],\n",
              "          [-0.1507,  0.2804,  0.4506],\n",
              "          [-1.4209, -0.1024,  0.3018],\n",
              "          [-1.0430, -0.7053, -0.5171],\n",
              "          [-0.3081,  0.2862,  0.4239],\n",
              "          [-1.0914,  0.0615, -1.5576],\n",
              "          [-0.9529,  0.2569, -0.7648],\n",
              "          [ 0.4419,  0.1963, -0.5129],\n",
              "          [ 2.6655,  0.5138,  1.9001],\n",
              "          [-1.1843,  0.6703, -1.0193],\n",
              "          [-0.7176,  1.4107, -0.5194],\n",
              "          [-1.5368, -0.5789, -1.0575],\n",
              "          [ 0.9231,  0.7710, -0.7630],\n",
              "          [ 1.2569, -0.7771,  1.3468],\n",
              "          [ 0.1088, -1.5200,  0.9969],\n",
              "          [-0.2547,  0.5956,  0.2270],\n",
              "          [ 1.2881,  0.3543,  0.3707],\n",
              "          [ 2.5086,  0.6317, -0.6209],\n",
              "          [-0.6842, -0.9837, -1.2128],\n",
              "          [-0.4102, -0.9686,  0.3094],\n",
              "          [ 0.5793, -0.6196,  1.0844]], requires_grad=True),\n",
              "  tensor([ 0.2754,  0.2216, -1.0575], requires_grad=True)],\n",
              " [tensor([[ 0.1983],\n",
              "          [-0.8928],\n",
              "          [-0.7928]], requires_grad=True),\n",
              "  tensor([0.6734], requires_grad=True)]]"
            ]
          },
          "metadata": {},
          "execution_count": 41
        }
      ]
    }
  ]
}