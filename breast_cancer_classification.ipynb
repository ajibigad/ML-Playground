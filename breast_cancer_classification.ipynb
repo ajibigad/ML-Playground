{
  "nbformat": 4,
  "nbformat_minor": 0,
  "metadata": {
    "colab": {
      "provenance": [],
      "mount_file_id": "1jnxUCjPjtGhcbxHvmWhcF-9Uz4jHyRgK",
      "authorship_tag": "ABX9TyNpgE1JItqDv/NBYdZgYLUA",
      "include_colab_link": true
    },
    "kernelspec": {
      "name": "python3",
      "display_name": "Python 3"
    },
    "language_info": {
      "name": "python"
    }
  },
  "cells": [
    {
      "cell_type": "markdown",
      "metadata": {
        "id": "view-in-github",
        "colab_type": "text"
      },
      "source": [
        "<a href=\"https://colab.research.google.com/github/ajibigad/ML-Playground/blob/main/breast_cancer_classification.ipynb\" target=\"_parent\"><img src=\"https://colab.research.google.com/assets/colab-badge.svg\" alt=\"Open In Colab\"/></a>"
      ]
    },
    {
      "cell_type": "code",
      "execution_count": 3,
      "metadata": {
        "colab": {
          "base_uri": "https://localhost:8080/"
        },
        "id": "4bXL7SdKkCZr",
        "outputId": "a45d2042-be35-4b30-c892-015fa797a70e"
      },
      "outputs": [
        {
          "output_type": "stream",
          "name": "stdout",
          "text": [
            "Google Drive is already mounted.\n",
            "/content/drive/MyDrive/Colab Notebooks/breast-cancer.csv already exists\n"
          ]
        }
      ],
      "source": [
        "import os\n",
        "\n",
        "from google.colab import files, drive\n",
        "import shutil\n",
        "\n",
        "if not os.path.ismount('/content/drive'):\n",
        "    print(\"Mounting Google Drive...\")\n",
        "    drive.mount('/content/drive')\n",
        "else:\n",
        "    print(\"Google Drive is already mounted.\")\n",
        "\n",
        "destination = \"/content/drive/MyDrive/Colab Notebooks/breast-cancer.csv\"  # Set the destination path in your Drive\n",
        "\n",
        "if not os.path.exists(destination):\n",
        "  uploaded = files.upload()\n",
        "  filename = list(uploaded.keys())[0]  # Get the uploaded filename\n",
        "  shutil.move(filename, destination)\n",
        "  print(f\"Uploaded file '{filename}' has been moved to Google Drive at '{destination}'\")\n",
        "else:\n",
        "  print(f\"{destination} already exists\")"
      ]
    },
    {
      "cell_type": "code",
      "source": [
        "import pandas as pd\n",
        "from sklearn.preprocessing import LabelEncoder\n",
        "\n",
        "# Load CSV file into a pandas DataFrame\n",
        "df = pd.read_csv(destination)\n",
        "\n",
        "# Convert M -> 1 and B -> 0\n",
        "label_encoder = LabelEncoder()\n",
        "df['diagnosis'] = label_encoder.fit_transform(df['diagnosis'])\n",
        "\n",
        "X = df.drop(['id', 'diagnosis'], axis=1).values\n",
        "y = df['diagnosis'].values"
      ],
      "metadata": {
        "id": "c8Jj6WsxBKGK"
      },
      "execution_count": 4,
      "outputs": []
    },
    {
      "cell_type": "code",
      "source": [
        "from sklearn.model_selection import train_test_split\n",
        "import torch\n",
        "import torch.nn as nn\n",
        "\n",
        "\n",
        "X_train, X_test, y_train, y_test = train_test_split(X, y, test_size=0.2, random_state=42)\n",
        "\n",
        "# Convert the data to PyTorch tensors\n",
        "X_train_tensor = torch.tensor(X_train, dtype=torch.float32)\n",
        "y_train_tensor = torch.tensor(y_train, dtype=torch.float32).view(-1, 1)  # Reshape targets to rank 2 tensor eg. from (455) to (455, 1)\n",
        "X_test_tensor = torch.tensor(X_test, dtype=torch.float32)\n",
        "y_test_tensor = torch.tensor(y_test, dtype=torch.float32).view(-1, 1)  # Reshape targets to (455, 1)\n",
        "\n",
        "# Z-score normalization\n",
        "mean = X_train_tensor.mean(dim=0, keepdim=True)\n",
        "std = X_train_tensor.std(dim=0, keepdim=True)\n",
        "\n",
        "X_train_normalized = (X_train_tensor - mean) / std\n",
        "X_test_normalized = (X_test_tensor - mean) / std"
      ],
      "metadata": {
        "id": "a7npO4KDDb4S"
      },
      "execution_count": 101,
      "outputs": []
    },
    {
      "cell_type": "code",
      "source": [
        "import pdb\n",
        "import numpy as np\n",
        "\n",
        "def sigmoid(x): return 1/(1+torch.exp(-x))\n",
        "\n",
        "def abs_mean_loss(predictions, targets):\n",
        "  # // abs mean or mse but we did abs mean loss here\n",
        "  # // for every prediction, if the target is 1, then difference is 1-pred, else difference is abs(0-pred)\n",
        "  # // predictions will always be between 0 and 1 due to sigmond function\n",
        "  return torch.where(targets==1, 1-predictions, predictions).mean()\n",
        "\n",
        "def mse(preds, targets): return ((preds-targets)**2).mean()\n",
        "\n",
        "def batch_accuracy(predictions, targets):\n",
        "  with torch.no_grad():\n",
        "    correct = (predictions>=0.5) == targets\n",
        "    return correct.float().mean()\n",
        "\n",
        "def validate_epoch(model, val_data, val_target):\n",
        "    accs = [batch_accuracy(model.predict(xb), yb) for xb,yb in zip(val_data, val_target)]\n",
        "    return round(torch.stack(accs).mean().item(), 4)\n",
        "\n",
        "class LinearModel():\n",
        "  def __init__(self, weight, bias, x, y, x_validate, y_validate, loss_fn, metrics):\n",
        "    self.weight = weight\n",
        "    self.bias = bias\n",
        "    self.x = x\n",
        "    self.y = y\n",
        "    self.x_validate = x_validate\n",
        "    self.y_validate = y_validate\n",
        "    self.params = self.weight, self.bias\n",
        "    self.loss_fn = loss_fn\n",
        "    self.metrics = metrics\n",
        "    self.z = None\n",
        "\n",
        "  def predict(self, x):\n",
        "    # z(x) = xw + b\n",
        "    # y = g(z(x)) where g is an activation function\n",
        "    self.z = x@self.weight + self.bias\n",
        "\n",
        "    if torch.isnan(self.z).any():\n",
        "      pdb.set_trace()\n",
        "\n",
        "    # apply activation function\n",
        "    return sigmoid(self.z)\n",
        "\n",
        "  def step(self, loss, learning_rate):\n",
        "    # get loss\n",
        "    # calculate gradient, loss.backward()\n",
        "    # update parameters using learning rate\n",
        "    loss.backward()\n",
        "    for p in self.params:\n",
        "      p.data -= p.grad.data * learning_rate\n",
        "      p.grad.zero_()\n",
        "\n",
        "  def train(self, epoch, learning_rate):\n",
        "    for i in range(epoch):\n",
        "      preds = self.predict(self.x)\n",
        "      try:\n",
        "        loss = self.loss_fn(preds, self.y)\n",
        "      except:\n",
        "        print(preds.view(-1).tolist(), self.z)\n",
        "        raise\n",
        "      accuracy = self.metrics(preds, self.y)\n",
        "      validation = validate_epoch(self, self.x_validate, self.y_validate)\n",
        "      print(f\"epoch {i}: loss: {loss}, accuracy: {accuracy}, validation: {validation}\")\n",
        "      self.step(loss, learning_rate)\n",
        "\n",
        "def init_params(size, std=1.0): return (torch.randn(size)*std).requires_grad_()"
      ],
      "metadata": {
        "id": "LXVuVpX2F2Yp"
      },
      "execution_count": 6,
      "outputs": []
    },
    {
      "cell_type": "code",
      "source": [
        "w = init_params((X_train_normalized.shape[1], 1)) # size number of\n",
        "b = init_params(1)\n",
        "\n",
        "model = LinearModel(w, b, X_train_normalized, y_train_tensor, X_test_normalized, y_test_tensor, nn.BCELoss(), batch_accuracy)\n",
        "model.train(epoch=50, learning_rate=1e-1)"
      ],
      "metadata": {
        "colab": {
          "base_uri": "https://localhost:8080/"
        },
        "id": "WijSC5_hZuFz",
        "outputId": "2a7d083c-ea71-4419-afeb-022f0732996c"
      },
      "execution_count": 108,
      "outputs": [
        {
          "output_type": "stream",
          "name": "stdout",
          "text": [
            "epoch 0: loss: 1.5447770357131958, accuracy: 0.4571428596973419, validation: 0.4123\n",
            "epoch 1: loss: 1.3118507862091064, accuracy: 0.5208791494369507, validation: 0.4737\n",
            "epoch 2: loss: 1.135445475578308, accuracy: 0.5824176073074341, validation: 0.5088\n",
            "epoch 3: loss: 1.0001778602600098, accuracy: 0.6241758465766907, validation: 0.5702\n",
            "epoch 4: loss: 0.8958992958068848, accuracy: 0.6747252941131592, validation: 0.614\n",
            "epoch 5: loss: 0.8134739398956299, accuracy: 0.6989011168479919, validation: 0.6579\n",
            "epoch 6: loss: 0.7465646862983704, accuracy: 0.7340659499168396, validation: 0.6754\n",
            "epoch 7: loss: 0.691271185874939, accuracy: 0.7670329809188843, validation: 0.7105\n",
            "epoch 8: loss: 0.6446295380592346, accuracy: 0.7758241891860962, validation: 0.7281\n",
            "epoch 9: loss: 0.6045067310333252, accuracy: 0.7868131995201111, validation: 0.7368\n",
            "epoch 10: loss: 0.5694584250450134, accuracy: 0.795604407787323, validation: 0.7544\n",
            "epoch 11: loss: 0.5384765863418579, accuracy: 0.8065934181213379, validation: 0.7807\n",
            "epoch 12: loss: 0.5108665227890015, accuracy: 0.8131868243217468, validation: 0.7982\n",
            "epoch 13: loss: 0.4861069321632385, accuracy: 0.8175824284553528, validation: 0.7982\n",
            "epoch 14: loss: 0.46380332112312317, accuracy: 0.8373626470565796, validation: 0.7982\n",
            "epoch 15: loss: 0.44364428520202637, accuracy: 0.8417582511901855, validation: 0.7982\n",
            "epoch 16: loss: 0.42538294196128845, accuracy: 0.8549450635910034, validation: 0.7982\n",
            "epoch 17: loss: 0.4088062644004822, accuracy: 0.8571428656578064, validation: 0.807\n",
            "epoch 18: loss: 0.39373213052749634, accuracy: 0.8681318759918213, validation: 0.8246\n",
            "epoch 19: loss: 0.3799954652786255, accuracy: 0.8747252821922302, validation: 0.8333\n",
            "epoch 20: loss: 0.3674483895301819, accuracy: 0.8791208863258362, validation: 0.8421\n",
            "epoch 21: loss: 0.35595703125, accuracy: 0.8901098966598511, validation: 0.8684\n",
            "epoch 22: loss: 0.3454033136367798, accuracy: 0.8901098966598511, validation: 0.8684\n",
            "epoch 23: loss: 0.33568131923675537, accuracy: 0.894505500793457, validation: 0.8684\n",
            "epoch 24: loss: 0.3266984224319458, accuracy: 0.894505500793457, validation: 0.8684\n",
            "epoch 25: loss: 0.31837382912635803, accuracy: 0.898901104927063, validation: 0.8684\n",
            "epoch 26: loss: 0.3106365203857422, accuracy: 0.9054945111274719, validation: 0.886\n",
            "epoch 27: loss: 0.3034250736236572, accuracy: 0.9076923131942749, validation: 0.886\n",
            "epoch 28: loss: 0.29668623208999634, accuracy: 0.9076923131942749, validation: 0.886\n",
            "epoch 29: loss: 0.2903733551502228, accuracy: 0.9098901152610779, validation: 0.9035\n",
            "epoch 30: loss: 0.28444549441337585, accuracy: 0.9120879173278809, validation: 0.9035\n",
            "epoch 31: loss: 0.2788671851158142, accuracy: 0.9142857193946838, validation: 0.9123\n",
            "epoch 32: loss: 0.2736070156097412, accuracy: 0.9142857193946838, validation: 0.9123\n",
            "epoch 33: loss: 0.2686372995376587, accuracy: 0.9142857193946838, validation: 0.9386\n",
            "epoch 34: loss: 0.26393356919288635, accuracy: 0.9164835214614868, validation: 0.9386\n",
            "epoch 35: loss: 0.25947433710098267, accuracy: 0.9208791255950928, validation: 0.9474\n",
            "epoch 36: loss: 0.25523999333381653, accuracy: 0.9208791255950928, validation: 0.9474\n",
            "epoch 37: loss: 0.25121328234672546, accuracy: 0.9230769276618958, validation: 0.9474\n",
            "epoch 38: loss: 0.24737882614135742, accuracy: 0.9230769276618958, validation: 0.9474\n",
            "epoch 39: loss: 0.24372246861457825, accuracy: 0.9230769276618958, validation: 0.9474\n",
            "epoch 40: loss: 0.24023158848285675, accuracy: 0.9230769276618958, validation: 0.9474\n",
            "epoch 41: loss: 0.23689481616020203, accuracy: 0.9230769276618958, validation: 0.9474\n",
            "epoch 42: loss: 0.23370152711868286, accuracy: 0.9252747297286987, validation: 0.9474\n",
            "epoch 43: loss: 0.2306423932313919, accuracy: 0.9274725317955017, validation: 0.9474\n",
            "epoch 44: loss: 0.227708637714386, accuracy: 0.9318681359291077, validation: 0.9474\n",
            "epoch 45: loss: 0.2248922437429428, accuracy: 0.9318681359291077, validation: 0.9474\n",
            "epoch 46: loss: 0.22218605875968933, accuracy: 0.9318681359291077, validation: 0.9474\n",
            "epoch 47: loss: 0.2195831686258316, accuracy: 0.9318681359291077, validation: 0.9474\n",
            "epoch 48: loss: 0.21707747876644135, accuracy: 0.9340659379959106, validation: 0.9474\n",
            "epoch 49: loss: 0.2146632969379425, accuracy: 0.9340659379959106, validation: 0.9474\n"
          ]
        }
      ]
    },
    {
      "cell_type": "code",
      "source": [
        "def random_test(model):\n",
        "  test_X = X[35:67]\n",
        "  test_y = y[35:67]\n",
        "\n",
        "  test_X_tensor = torch.tensor(test_X, dtype=torch.float32)\n",
        "  test_X_tensor_normalized = (test_X_tensor - mean) / std\n",
        "\n",
        "  # print(test_X)\n",
        "\n",
        "  preds = (model.predict(test_X_tensor_normalized).view(-1) >= 0.5).tolist()\n",
        "  targets = test_y >= 0.5\n",
        "  for pred, target in zip(preds, targets):\n",
        "    print(f\"pred: {pred:>1}, target {target:>1},   match: {pred==target:>1}\")"
      ],
      "metadata": {
        "id": "w8TV0alJU9O9"
      },
      "execution_count": 8,
      "outputs": []
    },
    {
      "cell_type": "code",
      "source": [
        "random_test(model)\n",
        "model.params"
      ],
      "metadata": {
        "colab": {
          "base_uri": "https://localhost:8080/"
        },
        "id": "ZuMpme9iTjjk",
        "outputId": "557394b4-14ab-48b8-e2c0-bea87d4bf808"
      },
      "execution_count": 9,
      "outputs": [
        {
          "output_type": "stream",
          "name": "stdout",
          "text": [
            "pred: 1, target 1,   match: 1\n",
            "pred: 1, target 1,   match: 1\n",
            "pred: 0, target 0,   match: 1\n",
            "pred: 1, target 1,   match: 1\n",
            "pred: 1, target 1,   match: 1\n",
            "pred: 0, target 1,   match: 0\n",
            "pred: 0, target 1,   match: 0\n",
            "pred: 1, target 1,   match: 1\n",
            "pred: 1, target 1,   match: 1\n",
            "pred: 1, target 1,   match: 1\n",
            "pred: 1, target 1,   match: 1\n",
            "pred: 0, target 0,   match: 1\n",
            "pred: 1, target 1,   match: 1\n",
            "pred: 0, target 0,   match: 1\n",
            "pred: 0, target 0,   match: 1\n",
            "pred: 0, target 0,   match: 1\n",
            "pred: 0, target 0,   match: 1\n",
            "pred: 0, target 0,   match: 1\n",
            "pred: 1, target 1,   match: 1\n",
            "pred: 1, target 1,   match: 1\n",
            "pred: 0, target 0,   match: 1\n",
            "pred: 1, target 1,   match: 1\n",
            "pred: 1, target 1,   match: 1\n",
            "pred: 0, target 0,   match: 1\n",
            "pred: 0, target 0,   match: 1\n",
            "pred: 0, target 0,   match: 1\n",
            "pred: 0, target 0,   match: 1\n",
            "pred: 1, target 1,   match: 1\n",
            "pred: 0, target 0,   match: 1\n",
            "pred: 1, target 1,   match: 1\n",
            "pred: 1, target 1,   match: 1\n",
            "pred: 0, target 0,   match: 1\n"
          ]
        },
        {
          "output_type": "execute_result",
          "data": {
            "text/plain": [
              "(tensor([[ 0.5258],\n",
              "         [ 0.8653],\n",
              "         [ 0.1862],\n",
              "         [ 0.3394],\n",
              "         [ 1.4118],\n",
              "         [ 0.6473],\n",
              "         [-0.1412],\n",
              "         [ 0.5237],\n",
              "         [-1.2163],\n",
              "         [ 0.2542],\n",
              "         [-0.5325],\n",
              "         [ 0.9348],\n",
              "         [ 2.0133],\n",
              "         [-0.1452],\n",
              "         [ 0.7536],\n",
              "         [-1.1988],\n",
              "         [-0.8155],\n",
              "         [ 0.1698],\n",
              "         [ 0.7537],\n",
              "         [-1.3546],\n",
              "         [ 0.0174],\n",
              "         [-1.3198],\n",
              "         [ 3.0065],\n",
              "         [ 0.3005],\n",
              "         [-0.5575],\n",
              "         [ 0.8816],\n",
              "         [-0.5776],\n",
              "         [ 1.1805],\n",
              "         [ 0.1884],\n",
              "         [ 1.0792]], requires_grad=True),\n",
              " tensor([0.2826], requires_grad=True))"
            ]
          },
          "metadata": {},
          "execution_count": 9
        }
      ]
    },
    {
      "cell_type": "code",
      "source": [
        "class NeuralNet(LinearModel):\n",
        "  def __init__(self, layers, x, y, x_validate, y_validate, loss_fn, metrics):\n",
        "    self.layers = layers\n",
        "    self.x = x\n",
        "    self.y = y\n",
        "    self.x_validate = x_validate\n",
        "    self.y_validate = y_validate\n",
        "    self.loss_fn = loss_fn\n",
        "    self.metrics = metrics\n",
        "    self.z = None\n",
        "\n",
        "  def predict(self, x):\n",
        "    input = x\n",
        "    for layer in self.layers[:-1]:\n",
        "      res = input@layer[0] + layer[1]\n",
        "      res = res.max(torch.tensor(0.0))\n",
        "      input = res\n",
        "      if torch.isnan(res).any():\n",
        "        print(\"nan after during prediction in inner layers\")\n",
        "        # pdb.set_trace()\n",
        "\n",
        "    res = res@self.layers[-1][0] + self.layers[-1][1]\n",
        "    self.z = res\n",
        "    if torch.isnan(self.z).any():\n",
        "      print(\"nan after during prediction\")\n",
        "      # pdb.set_trace()\n",
        "    return sigmoid(res)\n",
        "\n",
        "  def step(self, loss, learning_rate):\n",
        "    loss.backward()\n",
        "    for layer in self.layers:\n",
        "      for p in layer:\n",
        "        p.data -= p.grad.data * learning_rate\n",
        "        if torch.isnan(p).any():\n",
        "          print(\"nan after backpropagation\")\n",
        "          # pdb.set_trace()\n",
        "        p.grad.zero_()\n"
      ],
      "metadata": {
        "id": "TT_vNmkfKZIo"
      },
      "execution_count": 16,
      "outputs": []
    },
    {
      "cell_type": "code",
      "source": [
        "neurons = 4\n",
        "# w1 = init_params((30,neurons))\n",
        "# b1 = init_params(neurons)\n",
        "# w2 = init_params((neurons,1))\n",
        "# b2 = init_params(1)\n",
        "\n",
        "layer1 = [init_params((30,neurons)), init_params(neurons)]\n",
        "layer2 = [init_params((neurons, neurons)), init_params(neurons)]\n",
        "layer3 = [init_params((neurons,1)), init_params(1)]\n",
        "layers = [layer1, layer2, layer3]\n",
        "\n",
        "model2 = NeuralNet(layers, X_train_normalized, y_train_tensor, X_test_normalized, y_test_tensor, nn.BCELoss(), batch_accuracy)\n",
        "model2.train(epoch=50, learning_rate=1e-1)"
      ],
      "metadata": {
        "colab": {
          "base_uri": "https://localhost:8080/"
        },
        "id": "1n7KNcDDNP5X",
        "outputId": "20f365b2-10a2-490e-d540-d47ae6ac5e5c"
      },
      "execution_count": 106,
      "outputs": [
        {
          "output_type": "stream",
          "name": "stdout",
          "text": [
            "epoch 0: loss: 1.568037986755371, accuracy: 0.39340659976005554, validation: 0.4211\n",
            "epoch 1: loss: 1.2484278678894043, accuracy: 0.4087912142276764, validation: 0.4298\n",
            "epoch 2: loss: 1.0105136632919312, accuracy: 0.44175824522972107, validation: 0.4474\n",
            "epoch 3: loss: 0.844948947429657, accuracy: 0.47472527623176575, validation: 0.5088\n",
            "epoch 4: loss: 0.7345471978187561, accuracy: 0.5142857432365417, validation: 0.5263\n",
            "epoch 5: loss: 0.6667817234992981, accuracy: 0.5450549721717834, validation: 0.5614\n",
            "epoch 6: loss: 0.6247576475143433, accuracy: 0.5692307949066162, validation: 0.5877\n",
            "epoch 7: loss: 0.5914564728736877, accuracy: 0.591208815574646, validation: 0.6053\n",
            "epoch 8: loss: 0.5599461197853088, accuracy: 0.6219780445098877, validation: 0.6228\n",
            "epoch 9: loss: 0.5338020324707031, accuracy: 0.6461538672447205, validation: 0.6316\n",
            "epoch 10: loss: 0.5107117295265198, accuracy: 0.6703296899795532, validation: 0.6579\n",
            "epoch 11: loss: 0.49110299348831177, accuracy: 0.6747252941131592, validation: 0.6579\n",
            "epoch 12: loss: 0.474945068359375, accuracy: 0.6769230961799622, validation: 0.6667\n",
            "epoch 13: loss: 0.4583490788936615, accuracy: 0.6835165023803711, validation: 0.6842\n",
            "epoch 14: loss: 0.43808990716934204, accuracy: 0.694505512714386, validation: 0.7018\n",
            "epoch 15: loss: 0.42124542593955994, accuracy: 0.7032967209815979, validation: 0.7105\n",
            "epoch 16: loss: 0.4071185290813446, accuracy: 0.8417582511901855, validation: 0.8772\n",
            "epoch 17: loss: 0.3948966860771179, accuracy: 0.8461538553237915, validation: 0.8772\n",
            "epoch 18: loss: 0.38424333930015564, accuracy: 0.8549450635910034, validation: 0.886\n",
            "epoch 19: loss: 0.3739285171031952, accuracy: 0.8593406677246094, validation: 0.886\n",
            "epoch 20: loss: 0.36374327540397644, accuracy: 0.8615384697914124, validation: 0.886\n",
            "epoch 21: loss: 0.3545267879962921, accuracy: 0.8637362718582153, validation: 0.8947\n",
            "epoch 22: loss: 0.34630781412124634, accuracy: 0.8725274801254272, validation: 0.8947\n",
            "epoch 23: loss: 0.33862125873565674, accuracy: 0.8769230842590332, validation: 0.9035\n",
            "epoch 24: loss: 0.3312894105911255, accuracy: 0.8835164904594421, validation: 0.9123\n",
            "epoch 25: loss: 0.3242573142051697, accuracy: 0.8879120945930481, validation: 0.9123\n",
            "epoch 26: loss: 0.31754592061042786, accuracy: 0.894505500793457, validation: 0.9123\n",
            "epoch 27: loss: 0.3109291195869446, accuracy: 0.894505500793457, validation: 0.9211\n",
            "epoch 28: loss: 0.3047458231449127, accuracy: 0.894505500793457, validation: 0.9123\n",
            "epoch 29: loss: 0.298724889755249, accuracy: 0.901098906993866, validation: 0.9123\n",
            "epoch 30: loss: 0.2931162416934967, accuracy: 0.901098906993866, validation: 0.9123\n",
            "epoch 31: loss: 0.28788357973098755, accuracy: 0.903296709060669, validation: 0.9123\n",
            "epoch 32: loss: 0.2830224931240082, accuracy: 0.9054945111274719, validation: 0.9123\n",
            "epoch 33: loss: 0.2785606384277344, accuracy: 0.9054945111274719, validation: 0.9123\n",
            "epoch 34: loss: 0.2743331789970398, accuracy: 0.9054945111274719, validation: 0.9211\n",
            "epoch 35: loss: 0.2704284191131592, accuracy: 0.9054945111274719, validation: 0.9211\n",
            "epoch 36: loss: 0.26673370599746704, accuracy: 0.9054945111274719, validation: 0.9211\n",
            "epoch 37: loss: 0.2632805407047272, accuracy: 0.9076923131942749, validation: 0.9211\n",
            "epoch 38: loss: 0.260008841753006, accuracy: 0.9076923131942749, validation: 0.9298\n",
            "epoch 39: loss: 0.25677725672721863, accuracy: 0.9098901152610779, validation: 0.9298\n",
            "epoch 40: loss: 0.2536581754684448, accuracy: 0.9120879173278809, validation: 0.9298\n",
            "epoch 41: loss: 0.25073498487472534, accuracy: 0.9120879173278809, validation: 0.9386\n",
            "epoch 42: loss: 0.2479705810546875, accuracy: 0.9164835214614868, validation: 0.9386\n",
            "epoch 43: loss: 0.24535368382930756, accuracy: 0.9186813235282898, validation: 0.9474\n",
            "epoch 44: loss: 0.24281936883926392, accuracy: 0.9208791255950928, validation: 0.9474\n",
            "epoch 45: loss: 0.24042187631130219, accuracy: 0.9208791255950928, validation: 0.9474\n",
            "epoch 46: loss: 0.23812192678451538, accuracy: 0.9208791255950928, validation: 0.9561\n",
            "epoch 47: loss: 0.23584198951721191, accuracy: 0.9208791255950928, validation: 0.9561\n",
            "epoch 48: loss: 0.23362292349338531, accuracy: 0.9208791255950928, validation: 0.9561\n",
            "epoch 49: loss: 0.2314494401216507, accuracy: 0.9208791255950928, validation: 0.9561\n"
          ]
        }
      ]
    },
    {
      "cell_type": "code",
      "source": [
        "random_test(model2)\n",
        "model2.layers"
      ],
      "metadata": {
        "colab": {
          "base_uri": "https://localhost:8080/"
        },
        "id": "04V9qPmZLhpE",
        "outputId": "2bf5c01d-256d-4d31-af47-842a9ee8d8cc"
      },
      "execution_count": 107,
      "outputs": [
        {
          "output_type": "stream",
          "name": "stdout",
          "text": [
            "pred: 1, target 1,   match: 1\n",
            "pred: 1, target 1,   match: 1\n",
            "pred: 0, target 0,   match: 1\n",
            "pred: 1, target 1,   match: 1\n",
            "pred: 1, target 1,   match: 1\n",
            "pred: 0, target 1,   match: 0\n",
            "pred: 0, target 1,   match: 0\n",
            "pred: 1, target 1,   match: 1\n",
            "pred: 1, target 1,   match: 1\n",
            "pred: 0, target 1,   match: 0\n",
            "pred: 1, target 1,   match: 1\n",
            "pred: 0, target 0,   match: 1\n",
            "pred: 1, target 1,   match: 1\n",
            "pred: 0, target 0,   match: 1\n",
            "pred: 0, target 0,   match: 1\n",
            "pred: 0, target 0,   match: 1\n",
            "pred: 0, target 0,   match: 1\n",
            "pred: 0, target 0,   match: 1\n",
            "pred: 1, target 1,   match: 1\n",
            "pred: 0, target 1,   match: 0\n",
            "pred: 0, target 0,   match: 1\n",
            "pred: 1, target 1,   match: 1\n",
            "pred: 1, target 1,   match: 1\n",
            "pred: 0, target 0,   match: 1\n",
            "pred: 0, target 0,   match: 1\n",
            "pred: 0, target 0,   match: 1\n",
            "pred: 0, target 0,   match: 1\n",
            "pred: 1, target 1,   match: 1\n",
            "pred: 0, target 0,   match: 1\n",
            "pred: 1, target 1,   match: 1\n",
            "pred: 1, target 1,   match: 1\n",
            "pred: 0, target 0,   match: 1\n"
          ]
        },
        {
          "output_type": "execute_result",
          "data": {
            "text/plain": [
              "[[tensor([[-7.8450e-01, -1.7556e+00, -4.9966e-01, -9.9308e-01],\n",
              "          [ 2.2695e-01,  8.2368e-01, -1.2140e+00, -1.4660e+00],\n",
              "          [-1.0965e+00, -8.3788e-01, -1.7847e+00, -2.8014e-01],\n",
              "          [ 4.3346e-01, -4.5888e-02, -1.3990e-01, -2.3110e-01],\n",
              "          [-1.1298e+00, -2.5154e-01,  3.3557e-01, -1.5350e-01],\n",
              "          [ 8.4996e-01,  1.3003e+00, -2.0343e+00, -8.5103e-02],\n",
              "          [-3.7255e-01,  1.8370e+00,  2.0670e-01, -1.8829e+00],\n",
              "          [ 4.8928e-01, -9.9342e-01, -8.1885e-01, -3.1312e-01],\n",
              "          [-1.1011e+00, -1.5873e-01, -9.9768e-01,  9.5884e-02],\n",
              "          [ 2.5089e-01, -1.0837e+00,  2.0772e-01, -1.5382e-01],\n",
              "          [ 9.9671e-03, -1.1071e+00, -7.1093e-02, -3.7733e-01],\n",
              "          [ 2.5278e-01,  9.1610e-01, -7.7673e-01,  3.7842e-02],\n",
              "          [ 1.4408e+00, -1.0280e+00,  1.2958e+00, -2.0873e+00],\n",
              "          [ 5.9357e-01,  8.3641e-01, -1.6879e+00,  1.1567e+00],\n",
              "          [ 9.4891e-01,  1.7472e+00, -1.0126e+00,  4.1104e-01],\n",
              "          [-1.7691e+00,  1.3614e-01,  1.8143e+00, -1.3135e+00],\n",
              "          [-1.8756e+00, -9.8520e-01, -5.6134e-01, -7.1626e-01],\n",
              "          [-1.0829e+00, -1.0628e+00,  8.2965e-01,  1.3239e+00],\n",
              "          [ 1.6172e+00, -1.3163e+00, -9.7829e-01, -7.5395e-01],\n",
              "          [-1.2623e+00, -9.2719e-01,  3.7927e-01,  8.1248e-01],\n",
              "          [ 2.4595e+00,  5.1495e-01, -5.9675e-01,  7.2108e-01],\n",
              "          [ 1.7422e+00,  2.1757e-01, -6.9720e-01,  4.6332e-01],\n",
              "          [ 4.5909e-01, -2.4666e+00, -2.9857e-01, -1.0164e+00],\n",
              "          [ 5.4276e-01,  1.3719e+00, -1.8574e-01,  8.4921e-02],\n",
              "          [ 4.3604e-01, -1.7690e-01,  5.7046e-01, -7.6975e-03],\n",
              "          [-4.2149e-01,  7.6072e-01,  3.3506e-01,  1.1382e-01],\n",
              "          [-8.7420e-01, -5.4526e-01,  3.0529e+00, -7.8707e-01],\n",
              "          [-8.3343e-01, -2.1651e-03, -1.1529e+00,  4.7728e-01],\n",
              "          [-1.5835e+00, -2.6586e+00,  2.8360e-01, -3.4835e-01],\n",
              "          [-3.2763e-02,  9.8438e-02, -1.3858e+00, -1.7838e-01]],\n",
              "         requires_grad=True),\n",
              "  tensor([-0.9470, -0.3935, -0.7673,  0.1592], requires_grad=True)],\n",
              " [tensor([[ 1.5612,  1.0760, -0.6672, -1.4120],\n",
              "          [-0.5264,  0.3932, -1.6175, -0.8557],\n",
              "          [-0.0848, -0.0203,  0.3153, -0.2792],\n",
              "          [-0.5942,  0.7874,  1.0724, -1.6860]], requires_grad=True),\n",
              "  tensor([ 0.5214, -0.0019, -0.0041,  0.9285], requires_grad=True)],\n",
              " [tensor([[ 0.7997],\n",
              "          [-0.8420],\n",
              "          [-1.5057],\n",
              "          [-1.1128]], requires_grad=True),\n",
              "  tensor([1.4514], requires_grad=True)]]"
            ]
          },
          "metadata": {},
          "execution_count": 107
        }
      ]
    }
  ]
}